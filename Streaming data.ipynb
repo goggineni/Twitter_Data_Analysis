{
 "cells": [
  {
   "cell_type": "code",
   "execution_count": 1,
   "id": "9c615a97",
   "metadata": {},
   "outputs": [],
   "source": [
    "import tweepy\n",
    "from tweepy import OAuthHandler\n",
    "\n",
    "\n"
   ]
  },
  {
   "cell_type": "code",
   "execution_count": 2,
   "id": "90537533",
   "metadata": {},
   "outputs": [],
   "source": [
    "from tweepy import Stream\n",
    "from tweepy.streaming import StreamListener\n",
    "\n",
    "import socket\n",
    "import json"
   ]
  },
  {
   "cell_type": "code",
   "execution_count": 3,
   "id": "0ddbffb4",
   "metadata": {},
   "outputs": [],
   "source": [
    "access_token=\"1425782982015557635-MWlOuVgq5Koi1xoKAuyCUhnUG4xVdJ\"\n",
    "access_secret=\"S6CjUX4aQOjRIX94hqK8csU6IQpRdPQF6yl1lBi5Rv9VS\"\n",
    "API_key=\"gPu7s7LuvAfsWKrI4AhieLU88\"\n",
    "API_secret=\"bm8FQJzyLeF47DeTb1av6CH8gukZzhbtWHEuwuvijajWmOzIVI\""
   ]
  },
  {
   "cell_type": "code",
   "execution_count": 4,
   "id": "75ac8c5d",
   "metadata": {},
   "outputs": [],
   "source": [
    "class TweetsListener(StreamListener):\n",
    "\n",
    "  def __init__(self, csocket):\n",
    "      self.client_socket = csocket\n",
    "\n",
    "  def on_data(self, data):\n",
    "      try:\n",
    "          msg = json.loads( data )\n",
    "          print( msg['text'].encode('utf-8') )\n",
    "          self.client_socket.send( msg['text'].encode('utf-8') )\n",
    "          return True\n",
    "      except BaseException as e:\n",
    "          print(\"Error on_data: %s\" % str(e))\n",
    "      return True\n",
    "\n",
    "  def on_error(self, status):\n",
    "      print(status)\n",
    "      return True\n"
   ]
  },
  {
   "cell_type": "code",
   "execution_count": 5,
   "id": "77d47f92",
   "metadata": {},
   "outputs": [],
   "source": [
    "def sendData(c_socket):\n",
    "  auth = OAuthHandler(API_key, API_secret)\n",
    "  auth.set_access_token(access_token, access_secret)\n",
    "\n",
    "  twitter_stream = Stream(auth, TweetsListener(c_socket))\n",
    "  twitter_stream.filter(track=['JoeBiden'])"
   ]
  },
  {
   "cell_type": "code",
   "execution_count": 6,
   "id": "2fdc1b73",
   "metadata": {},
   "outputs": [],
   "source": [
    "if __name__ == \"__main__\":\n",
    "  s = socket.socket()         # Create a socket object\n",
    "  host = \"127.0.0.1\"     # Get local machine name\n",
    "  port = 9998               # Reserve a port for your service.\n",
    "  s.bind((host, port))        # Bind to the port\n"
   ]
  },
  {
   "cell_type": "code",
   "execution_count": 7,
   "id": "af3442c3",
   "metadata": {},
   "outputs": [
    {
     "name": "stdout",
     "output_type": "stream",
     "text": [
      "Listening on port: 9998\n"
     ]
    }
   ],
   "source": [
    "print(\"Listening on port: %s\" % str(port))"
   ]
  },
  {
   "cell_type": "code",
   "execution_count": null,
   "id": "67e4c406",
   "metadata": {},
   "outputs": [],
   "source": [
    "s.listen(5)\n",
    "c,addr=s.accept()\n",
    "print('Received : '+str(addr))"
   ]
  },
  {
   "cell_type": "code",
   "execution_count": null,
   "id": "2e1c03c7",
   "metadata": {},
   "outputs": [],
   "source": [
    "sendData(c)"
   ]
  },
  {
   "cell_type": "code",
   "execution_count": null,
   "id": "cc4685e5",
   "metadata": {},
   "outputs": [],
   "source": []
  },
  {
   "cell_type": "code",
   "execution_count": null,
   "id": "4c5f4eae",
   "metadata": {},
   "outputs": [],
   "source": []
  },
  {
   "cell_type": "code",
   "execution_count": null,
   "id": "19dc2f6e",
   "metadata": {},
   "outputs": [],
   "source": []
  },
  {
   "cell_type": "code",
   "execution_count": null,
   "id": "5c7242d6",
   "metadata": {},
   "outputs": [],
   "source": []
  }
 ],
 "metadata": {
  "kernelspec": {
   "display_name": "Python 3",
   "language": "python",
   "name": "python3"
  },
  "language_info": {
   "codemirror_mode": {
    "name": "ipython",
    "version": 3
   },
   "file_extension": ".py",
   "mimetype": "text/x-python",
   "name": "python",
   "nbconvert_exporter": "python",
   "pygments_lexer": "ipython3",
   "version": "3.8.8"
  }
 },
 "nbformat": 4,
 "nbformat_minor": 5
}
