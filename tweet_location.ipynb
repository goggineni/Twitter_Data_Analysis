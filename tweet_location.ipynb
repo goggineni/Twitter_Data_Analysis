{
 "cells": [
  {
   "cell_type": "code",
   "execution_count": 1,
   "id": "faa38eaf",
   "metadata": {},
   "outputs": [],
   "source": [
    "import os\n",
    "import tweepy as tw"
   ]
  },
  {
   "cell_type": "code",
   "execution_count": 2,
   "id": "ced06590",
   "metadata": {},
   "outputs": [],
   "source": [
    "API_key=\"Ha31hJ5CY3TEOi0RHs2MwIPf9\"\n",
    "API_secret=\"C2Oz32zdXtv63zZrdYJ8tXbFZo9I81Tzwiz915jp2YpTWTpmlh\"\n",
    "access_token=\"1338191512967000064-UX8M5NZAtaiBBll5WuS4TzMZiVz9vQ\"\n",
    "access_secret=\"asURw4LXzqMprMA5AcZ0CY0RCsnZmIuP0EREq33F6poqs\""
   ]
  },
  {
   "cell_type": "code",
   "execution_count": 3,
   "id": "d8db49c9",
   "metadata": {},
   "outputs": [],
   "source": [
    "auth = tw.OAuthHandler(API_key, API_secret)\n",
    "auth.set_access_token(access_token, access_secret)\n",
    "api = tw.API(auth, wait_on_rate_limit=True)"
   ]
  },
  {
   "cell_type": "code",
   "execution_count": 21,
   "id": "ac2ea538",
   "metadata": {},
   "outputs": [],
   "source": [
    "search_words = \"#JoeBiden\"\n",
    "date_since = \"2018-11-16\""
   ]
  },
  {
   "cell_type": "code",
   "execution_count": 22,
   "id": "0fe94665",
   "metadata": {},
   "outputs": [
    {
     "data": {
      "text/plain": [
       "['RT @bluzrocker: Congratulations to #JoeBiden and #Democrats for successfully implementing their strategy to \"Make The Taliban Great Again\".…',\n",
       " 'RT @htTweets: #HTEditorial | The US exit was understandable. But the way it was managed is unpardonable. The Inter-Services Intelligence ha…',\n",
       " 'Today the #JoeBiden administration turns its attention back to the real terrorists, parents who don’t want their ki… https://t.co/H0h4BJYoSi',\n",
       " 'RT @SethAsherW: After @POTUS won, our son wrote the President-Elect a letter. Yesterday #JoeBiden wrote back!!! https://t.co/MBJhbmE4fy',\n",
       " 'People are not celebrating #IndependenceDayIndia day because of Modi govt\\n\\n#Afghanistan #kabulairport… https://t.co/OBOnhXm4aM',\n",
       " 'I wonder where all the people are who enjoyed alot when @JoeBiden got elected and also wondering where @rihanna ,… https://t.co/N4dxXimx6u',\n",
       " 'RT @inacentre: America, led by #JoeBiden has now become a threat to Western Society and the values that, I believe the majority of us suppo…',\n",
       " 'RT @rose_k01: This is what Joe Biden has reduced the Afghan People to. Afghans are clinging to Plane even as it gets ready to take off 😱😑 #…',\n",
       " \"RT @MJ_007Club: Huge uproar in the United States of America demanding Joe Biden's resignation for failing Afghanistan. #ResignBiden #JoeBid…\",\n",
       " 'RT @IFENewsAgency: Looks like #MissionBiden : House of cards? Soon change in gaurd! All libs reporter even India basing Biden?\\n\\nSeveral #US…',\n",
       " '#Liberals trended #WorldIsSaved after #JoeBiden &amp; #KamalaHarris were declared won. Some ridiculed Indians by siding… https://t.co/7rzAcYOBRF',\n",
       " \"RT @ians_india: #US President #JoeBiden's statement on Saturday washing his hands of #Afghanistan deserves to go down as one of the most sh…\",\n",
       " 'RT @manisha_jaipur: I strongly condemn the decision of #JoeBiden who announced the withdrawal of #USArmy from #Afgan land.\\nthe world is Mis…',\n",
       " \"RT @Naanofficial2: #USKMKB \\n\\n#JoeBiden - WE DID IT 🇺🇲\\n\\nNow let's grab poop🍿\",\n",
       " 'RT @htTweets: #HTEditorial | The US exit was understandable. But the way it was managed is unpardonable. The Inter-Services Intelligence ha…']"
      ]
     },
     "execution_count": 22,
     "metadata": {},
     "output_type": "execute_result"
    }
   ],
   "source": [
    "tweets = tw.Cursor(api.search,\n",
    "                       q=search_words,\n",
    "                       lang=\"en\",\n",
    "                       since=date_since).items(15)\n",
    "\n",
    "# Collect a list of tweets\n",
    "[tweet.text for tweet in tweets]"
   ]
  },
  {
   "cell_type": "code",
   "execution_count": 23,
   "id": "0b2f35fa",
   "metadata": {},
   "outputs": [
    {
     "data": {
      "text/plain": [
       "'#JoeBiden -filter:retweets'"
      ]
     },
     "execution_count": 23,
     "metadata": {},
     "output_type": "execute_result"
    }
   ],
   "source": [
    "new_search = search_words + \" -filter:retweets\"\n",
    "new_search"
   ]
  },
  {
   "cell_type": "code",
   "execution_count": 24,
   "id": "d62ed8cc",
   "metadata": {},
   "outputs": [
    {
     "data": {
      "text/plain": [
       "[['PunditReview', 'Boston'],\n",
       " ['SohaliKhan8', 'Uttar Pradesh, India.'],\n",
       " ['_Palter_', ''],\n",
       " ['centristbrit', 'London, England'],\n",
       " ['harishkrcr', ''],\n",
       " ['TheVikasLohchab', 'New Delhi, India'],\n",
       " ['NotThatGuyJo', 'Long Island, NY'],\n",
       " ['uttammisra4', 'NORTH INDIA'],\n",
       " ['copyrighter19', ''],\n",
       " ['BibiPakhii', ''],\n",
       " ['Shivas40365335', 'India'],\n",
       " ['NC_Zero', ''],\n",
       " ['RealPhatsBlog', 'North America'],\n",
       " ['tridence', 'Jacksonville, FL & Chicago, IL'],\n",
       " ['No_negativityxd', 'भारत']]"
      ]
     },
     "execution_count": 24,
     "metadata": {},
     "output_type": "execute_result"
    }
   ],
   "source": [
    "tweets = tw.Cursor(api.search, \n",
    "                           q=new_search,\n",
    "                           lang=\"en\",\n",
    "                           since=date_since).items(15)\n",
    "\n",
    "users_locs = [[tweet.user.screen_name, tweet.user.location] for tweet in tweets]\n",
    "users_locs"
   ]
  },
  {
   "cell_type": "code",
   "execution_count": null,
   "id": "bda7dede",
   "metadata": {},
   "outputs": [],
   "source": []
  },
  {
   "cell_type": "code",
   "execution_count": null,
   "id": "55a1753b",
   "metadata": {},
   "outputs": [],
   "source": []
  },
  {
   "cell_type": "code",
   "execution_count": null,
   "id": "0cac4c33",
   "metadata": {},
   "outputs": [],
   "source": []
  },
  {
   "cell_type": "code",
   "execution_count": null,
   "id": "9b8c21e3",
   "metadata": {},
   "outputs": [],
   "source": []
  }
 ],
 "metadata": {
  "kernelspec": {
   "display_name": "Python 3",
   "language": "python",
   "name": "python3"
  },
  "language_info": {
   "codemirror_mode": {
    "name": "ipython",
    "version": 3
   },
   "file_extension": ".py",
   "mimetype": "text/x-python",
   "name": "python",
   "nbconvert_exporter": "python",
   "pygments_lexer": "ipython3",
   "version": "3.8.8"
  }
 },
 "nbformat": 4,
 "nbformat_minor": 5
}
